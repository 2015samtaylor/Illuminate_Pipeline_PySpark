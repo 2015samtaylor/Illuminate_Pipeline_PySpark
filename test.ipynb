{
 "cells": [
  {
   "cell_type": "code",
   "execution_count": 70,
   "metadata": {},
   "outputs": [
    {
     "name": "stdout",
     "output_type": "stream",
     "text": [
      "The autoreload extension is already loaded. To reload it, use:\n",
      "  %reload_ext autoreload\n",
      "The length of the ID_list is 92\n"
     ]
    }
   ],
   "source": [
    "%load_ext autoreload\n",
    "%autoreload 2\n",
    "#Assessments with confirmed active results\n",
    "#107617, 107614\n",
    "\n",
    "# 17 mins for current operation with all ids\n",
    "# 2 mins for 100 ids. \n",
    "\n",
    "#To DO\n",
    "#Implement logging to the whole operations\n",
    "\n",
    "from modules.auth import *\n",
    "from modules.assessments_endpoints import *\n",
    "from modules.frame_transformations import *\n",
    "from modules.config import base_url_illuminate\n",
    "from airflow import DAG\n",
    "from airflow.operators.python import PythonOperator\n",
    "import logging\n",
    "import os\n",
    "\n",
    "os.makedirs('logs', exist_ok=True)\n",
    "logging.basicConfig(filename='./logs/Illuminate_operations.log', level=logging.INFO,\n",
    "                   format='%(asctime)s - %(message)s', datefmt='%d-%b-%y %H:%M:%S', force=True)\n",
    "logging.info('\\n\\n-------------New Illuminate Operations Logging Instance')\n",
    "\n",
    "access_token, expires_in = get_access_token()\n",
    "\n",
    "test_results_group, log_results_group = loop_through_assessment_scores(access_token, assessment_id_list, 'Group') #Seperate table\n",
    "test_results_standard, log_results_standard = loop_through_assessment_scores(access_token, assessment_id_list, 'Standard')\n",
    "test_results_no_standard, log_results_no_standard = loop_through_assessment_scores(access_token, assessment_id_list, 'No_Standard')\n",
    "test_results = pd.concat([test_results_standard, test_results_no_standard])\n",
    "test_results = alter_test_results_frame(access_token, test_results) #add in grade level col\n",
    "\n",
    "#Write dfs to SFTP\n",
    "\n",
    "# academic_dashboard_version = test_results[['date_taken', 'grade_levels', 'local_student_id', 'title', 'percent_correct', 'performance_band_level', 'performance_band_label']]\n",
    "# need curriculum, & unit from different endpoint\n",
    "# #unit and curriculum are going to have to be manually mapped based on string matching and dictionaries\n",
    "\n",
    "#Create view in Big Query"
   ]
  }
 ],
 "metadata": {
  "kernelspec": {
   "display_name": "base",
   "language": "python",
   "name": "python3"
  },
  "language_info": {
   "codemirror_mode": {
    "name": "ipython",
    "version": 3
   },
   "file_extension": ".py",
   "mimetype": "text/x-python",
   "name": "python",
   "nbconvert_exporter": "python",
   "pygments_lexer": "ipython3",
   "version": "3.9.7"
  }
 },
 "nbformat": 4,
 "nbformat_minor": 2
}
