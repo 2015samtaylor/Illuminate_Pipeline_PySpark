{
 "cells": [
  {
   "cell_type": "code",
   "execution_count": null,
   "metadata": {},
   "outputs": [],
   "source": [
    "%load_ext autoreload\n",
    "%autoreload 2\n",
    "\n",
    "from modules.auth import *\n",
    "from modules.assessments_endpoints import *\n",
    "from modules.frame_transformations import *\n",
    "from modules.config import base_url_illuminate\n",
    "import logging\n",
    "import os\n",
    "\n",
    "os.makedirs('logs', exist_ok=True)\n",
    "logging.basicConfig(filename='./logs/Illuminate_operations.log', level=logging.INFO,\n",
    "                   format='%(asctime)s - %(message)s', datefmt='%d-%b-%y %H:%M:%S', force=True)\n",
    "logging.info('\\n\\n-------------New Illuminate Operations Logging Instance')\n",
    "\n",
    "\n",
    "access_token, expires_in = get_access_token()\n",
    "\n",
    "#For testing\n",
    "assessments_df, assessment_id_list = get_all_assessments_metadata(access_token)\n",
    "missing_ids_from_metadata = ['114845', '141498'] # Add assessments that are not present in assessements metadata\n",
    "assessment_id_list = list(set(assessment_id_list + missing_ids_from_metadata))\n",
    "\n",
    "\n",
    "test_results_group, log_results_group = loop_through_assessment_scores(access_token, assessment_id_list, 'Group') #Seperate table\n",
    "test_results_standard, log_results_standard = loop_through_assessment_scores(access_token, assessment_id_list, 'Standard')\n",
    "test_results_no_standard, log_results_no_standard = loop_through_assessment_scores(access_token, assessment_id_list, 'No_Standard')\n",
    "\n",
    "test_results_combined = bring_together_test_results(test_results_no_standard, test_results_standard)\n",
    "test_results_view = create_test_results_view(test_results_combined, '23-24') #add in grade level col, string matching"
   ]
  },
  {
   "cell_type": "markdown",
   "metadata": {},
   "source": [
    "# Testing View Changes"
   ]
  },
  {
   "cell_type": "code",
   "execution_count": 61,
   "metadata": {},
   "outputs": [
    {
     "name": "stdout",
     "output_type": "stream",
     "text": [
      "The autoreload extension is already loaded. To reload it, use:\n",
      "  %reload_ext autoreload\n"
     ]
    }
   ],
   "source": [
    "%load_ext autoreload\n",
    "%autoreload 2\n",
    "\n",
    "from modules.auth import *\n",
    "from modules.assessments_endpoints import *\n",
    "from modules.frame_transformations import *\n",
    "from modules.config import base_url_illuminate\n",
    "import logging\n",
    "import os\n",
    "\n",
    "test_results_combined = bring_together_test_results(test_results_no_standard, test_results_standard)\n",
    "test_results_view = create_test_results_view(test_results_combined, '23-24') #add in grade level col, string matching"
   ]
  },
  {
   "cell_type": "markdown",
   "metadata": {},
   "source": [
    "# Read in Raw Files"
   ]
  },
  {
   "cell_type": "code",
   "execution_count": null,
   "metadata": {},
   "outputs": [],
   "source": [
    "import pandas as pd\n",
    "c =pd.read_csv('/home/g2015samtaylor/illuminate/assessment_results_combined.csv')\n",
    "v =pd.read_csv('/home/g2015samtaylor/illuminate/assessment_results_view.csv')\n",
    "sr =pd.read_table('/home/icef/powerschool/Student_Rosters.txt')"
   ]
  }
 ],
 "metadata": {
  "kernelspec": {
   "display_name": "base",
   "language": "python",
   "name": "python3"
  },
  "language_info": {
   "codemirror_mode": {
    "name": "ipython",
    "version": 3
   },
   "file_extension": ".py",
   "mimetype": "text/x-python",
   "name": "python",
   "nbconvert_exporter": "python",
   "pygments_lexer": "ipython3",
   "version": "3.9.7"
  }
 },
 "nbformat": 4,
 "nbformat_minor": 2
}
