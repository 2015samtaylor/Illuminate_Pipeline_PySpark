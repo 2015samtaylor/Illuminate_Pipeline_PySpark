{
 "cells": [
  {
   "cell_type": "code",
   "execution_count": null,
   "metadata": {},
   "outputs": [],
   "source": [
    "%load_ext autoreload\n",
    "%autoreload 2\n",
    "\n",
    "from modules.auth import *\n",
    "from modules.assessments_endpoints import *\n",
    "from modules.frame_transformations import *\n",
    "from modules.config import base_url_illuminate\n",
    "from airflow import DAG\n",
    "from airflow.operators.python import PythonOperator\n",
    "import logging\n",
    "import os\n",
    "\n",
    "os.makedirs('logs', exist_ok=True)\n",
    "logging.basicConfig(filename='./logs/Illuminate_operations.log', level=logging.INFO,\n",
    "                   format='%(asctime)s - %(message)s', datefmt='%d-%b-%y %H:%M:%S', force=True)\n",
    "logging.info('\\n\\n-------------New Illuminate Operations Logging Instance')\n",
    "\n",
    "\n",
    "access_token, expires_in = get_access_token()\n",
    "\n",
    "#For testing\n",
    "assessment_id_list = [115519, 141498]\n",
    "temp = get_all_assessments_metadata(access_token)\n",
    "assessment_id_list = list(temp['assessment_id'].unique())\n",
    "missing_ids_from_metadata = ['114845', '141498'] # Add assessments that are not present in assessements metadata\n",
    "assessment_id_list = list(set(assessment_id_list + missing_ids_from_metadata))\n",
    "\n",
    "\n",
    "test_results_group, log_results_group = loop_through_assessment_scores(access_token, assessment_id_list, 'Group') #Seperate table\n",
    "test_results_standard, log_results_standard = loop_through_assessment_scores(access_token, assessment_id_list, 'Standard')\n",
    "test_results_no_standard, log_results_no_standard = loop_through_assessment_scores(access_token, assessment_id_list, 'No_Standard')\n",
    "\n",
    "test_results_combined = bring_together_test_results(test_results_no_standard, test_results_standard)\n",
    "test_results_view = create_test_results_view(test_results_combined, '23-24') #add in grade level col, string matching\n",
    "\n",
    "\n",
    "# access_token, expires_in = get_access_token()\n",
    "\n",
    "\n",
    "\n",
    "\n",
    "\n",
    "\n"
   ]
  },
  {
   "cell_type": "code",
   "execution_count": null,
   "metadata": {},
   "outputs": [],
   "source": [
    "import pandas as pd\n",
    "c =pd.read_csv('/home/g2015samtaylor/illuminate/assessment_results_combined.csv')\n",
    "v =pd.read_csv('/home/g2015samtaylor/illuminate/assessment_results_view.csv')\n",
    "sr =pd.read_table('/home/icef/powerschool/Student_Rosters.txt')"
   ]
  },
  {
   "cell_type": "code",
   "execution_count": null,
   "metadata": {},
   "outputs": [],
   "source": [
    "sub = v.loc[v['grade'].isin([0,1,2,3,4,5])][['title', 'curriculum']].drop_duplicates()\n",
    "\n",
    "\n",
    "# for 6th grade science i'm noticing that the scores in big query are different than what i see on illuminate\n",
    "\n",
    "# So is it safe to say anytime 'ELA' appears in the title column I can put 'Into Reading' for curriculum, \n",
    "# and anytime 'Math' appears in the title I can put 'IM' for curriculum?"
   ]
  },
  {
   "cell_type": "code",
   "execution_count": null,
   "metadata": {},
   "outputs": [],
   "source": [
    "sub['title'].unique()"
   ]
  },
  {
   "cell_type": "code",
   "execution_count": null,
   "metadata": {},
   "outputs": [],
   "source": [
    "v.loc[(v['local_student_id'] == 44319) & (v['assessment_id'] == 115939)]"
   ]
  },
  {
   "cell_type": "code",
   "execution_count": null,
   "metadata": {},
   "outputs": [],
   "source": [
    "o, l = get_assessment_scores(access_token, '115939', 'Standard')\n",
    "o.loc[o['local_student_id'] == '43977'][['assessment_id', 'title','standard_code', 'local_student_id', 'points', 'points_possible', 'percent_correct']]"
   ]
  }
 ],
 "metadata": {
  "kernelspec": {
   "display_name": "Python 3",
   "language": "python",
   "name": "python3"
  },
  "language_info": {
   "codemirror_mode": {
    "name": "ipython",
    "version": 3
   },
   "file_extension": ".py",
   "mimetype": "text/x-python",
   "name": "python",
   "nbconvert_exporter": "python",
   "pygments_lexer": "ipython3",
   "version": "3.9.5"
  }
 },
 "nbformat": 4,
 "nbformat_minor": 2
}
