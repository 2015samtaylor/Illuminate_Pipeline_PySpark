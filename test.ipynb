{
 "cells": [
  {
   "cell_type": "code",
   "execution_count": 53,
   "metadata": {},
   "outputs": [
    {
     "name": "stdout",
     "output_type": "stream",
     "text": [
      "The autoreload extension is already loaded. To reload it, use:\n",
      "  %reload_ext autoreload\n",
      "The length of the ID_list is 2\n",
      "The length of the ID_list is 2\n",
      "The length of the ID_list is 2\n"
     ]
    }
   ],
   "source": [
    "%load_ext autoreload\n",
    "%autoreload 2\n",
    "#Assessments with confirmed active results\n",
    "#107617, 107614\n",
    "\n",
    "# 17 mins for current operation with all ids\n",
    "# 2 mins for 100 ids. \n",
    "\n",
    "#To DO\n",
    "#Implement logging to the whole operations\n",
    "\n",
    "from modules.auth import *\n",
    "from modules.assessments_endpoints import *\n",
    "from modules.frame_transformations import *\n",
    "from modules.config import base_url_illuminate\n",
    "from airflow import DAG\n",
    "from airflow.operators.python import PythonOperator\n",
    "import logging\n",
    "import os\n",
    "\n",
    "os.makedirs('logs', exist_ok=True)\n",
    "logging.basicConfig(filename='./logs/Illuminate_operations.log', level=logging.INFO,\n",
    "                   format='%(asctime)s - %(message)s', datefmt='%d-%b-%y %H:%M:%S', force=True)\n",
    "logging.info('\\n\\n-------------New Illuminate Operations Logging Instance')\n",
    "\n",
    "\n",
    "access_token, expires_in = get_access_token()\n",
    "\n",
    "#For testing\n",
    "assessment_id_list = [115519, 115900]\n",
    "# temp = get_all_assessments_metadata(access_token)\n",
    "# assessment_id_list = list(temp['assessment_id'].unique())\n",
    "# missing_ids_from_metadata = ['114845'] # Add assessments that are not present in assessements metadata\n",
    "# assessment_id_list = add_missing_assessments(assessment_id_list, missing_ids_from_metadata)\n",
    "\n",
    "test_results_group, log_results_group = loop_through_assessment_scores(access_token, assessment_id_list, 'Group') #Seperate table\n",
    "test_results_standard, log_results_standard = loop_through_assessment_scores(access_token, assessment_id_list, 'Standard')\n",
    "test_results_no_standard, log_results_no_standard = loop_through_assessment_scores(access_token, assessment_id_list, 'No_Standard')\n",
    "\n",
    "test_results_combined = bring_together_test_results(test_results_no_standard, test_results_standard)\n",
    "test_results_view = create_test_results_view(test_results_combined, '23-24') #add in grade level col, string matching\n",
    "\n",
    "\n",
    "# access_token, expires_in = get_access_token()\n",
    "\n",
    "\n",
    "\n",
    "#Write dfs to SFTP\n",
    "#Takes 4 mins with current 167 test_ids. \n",
    "\n",
    "#takes 25 mins to run all \n",
    "\n",
    "#41000 rows to now 58000 rows\n",
    "\n",
    "#Student_Rosters.txt is coming through at 6:20\n",
    "#Ask to get that moved up\n",
    "\n",
    "# also, i was wondering if there's a way we can rename the units so i can re-order these bars:\n",
    "# shelby wants it to be like unit 1, unit 2, unit 3, interim 1, unit 4, unit 5, interim 2, etc. etc.\n"
   ]
  },
  {
   "cell_type": "code",
   "execution_count": null,
   "metadata": {},
   "outputs": [],
   "source": [
    "also, i'm noting that for assignment 115519, not all of the standards are importing into the db\n",
    "for example, there are 10 standards tested in this assignment + the overall score\n"
   ]
  },
  {
   "cell_type": "code",
   "execution_count": 6,
   "metadata": {},
   "outputs": [
    {
     "data": {
      "text/plain": [
       "array(['CCSS.ELA-Literacy.RI.3.2', 'CCSS.ELA-Literacy.RI.3.4',\n",
       "       'CCSS.ELA-Literacy.RI.3.8', 'CCSS.ELA-Literacy.L.3.5',\n",
       "       'CCSS.ELA-Literacy.RL.3.1', 'CCSS.ELA-Literacy.RI.3.1', 'percent'],\n",
       "      dtype=object)"
      ]
     },
     "execution_count": 6,
     "metadata": {},
     "output_type": "execute_result"
    }
   ],
   "source": [
    "import pandas as pd\n",
    "\n",
    "v.loc[v['assessment_id'] == 115519]['standard_code'].unique()\n"
   ]
  },
  {
   "cell_type": "code",
   "execution_count": 9,
   "metadata": {},
   "outputs": [
    {
     "data": {
      "text/plain": [
       "array(['CCSS.ELA-Literacy.RI.3.2', 'CCSS.ELA-Literacy.RI.3.4',\n",
       "       'CCSS.ELA-Literacy.RI.3.8', 'CCSS.ELA-Literacy.L.3.5',\n",
       "       'CCSS.ELA-Literacy.RL.3.1', 'CCSS.ELA-Literacy.RI.3.1', 'percent'],\n",
       "      dtype=object)"
      ]
     },
     "execution_count": 9,
     "metadata": {},
     "output_type": "execute_result"
    }
   ],
   "source": [
    "c.loc[c['assessment_id'] == 115519]['standard_code'].unique()"
   ]
  },
  {
   "cell_type": "code",
   "execution_count": 32,
   "metadata": {},
   "outputs": [
    {
     "name": "stdout",
     "output_type": "stream",
     "text": [
      "The autoreload extension is already loaded. To reload it, use:\n",
      "  %reload_ext autoreload\n",
      "[\u001b[34m2024-11-14T15:55:51.618-0600\u001b[0m] {\u001b[34mauth.py:\u001b[0m63} INFO\u001b[0m - Calling API token endpoint\u001b[0m\n",
      "[\u001b[34m2024-11-14T15:55:51.623-0600\u001b[0m] {\u001b[34mauth.py:\u001b[0m69} INFO\u001b[0m - Succesfully retrieved API token\u001b[0m\n",
      "[\u001b[34m2024-11-14T15:55:51.627-0600\u001b[0m] {\u001b[34massessments_endpoints.py:\u001b[0m125} INFO\u001b[0m - https://icefps.illuminateed.com/live/rest_server.php/Api/AssessmentAggregateStudentResponsesStandard/?page=1&assessment_id=115519&limit=1000&date_taken_start=2024-07-01&date_taken_end=2024-11-14\u001b[0m\n",
      "[\u001b[34m2024-11-14T15:55:52.033-0600\u001b[0m] {\u001b[34massessments_endpoints.py:\u001b[0m128} INFO\u001b[0m - The status code for assessment_id 115519 is 200\u001b[0m\n",
      "[\u001b[34m2024-11-14T15:55:52.044-0600\u001b[0m] {\u001b[34massessments_endpoints.py:\u001b[0m135} INFO\u001b[0m - Here is the num of pages for 115519 id - 2 pages\u001b[0m\n",
      "[\u001b[34m2024-11-14T15:55:52.046-0600\u001b[0m] {\u001b[34massessments_endpoints.py:\u001b[0m144} INFO\u001b[0m - Results are present for _id 115519, num_results 1710, page 1\u001b[0m\n",
      "[\u001b[34m2024-11-14T15:55:52.071-0600\u001b[0m] {\u001b[34massessments_endpoints.py:\u001b[0m179} INFO\u001b[0m - Here is the url_ext for the next page AssessmentAggregateStudentResponsesStandard/?page=1&assessment_id=115519&limit=1000&date_taken_start=2024-07-01&date_taken_end=2024-11-14\u001b[0m\n",
      "[\u001b[34m2024-11-14T15:55:52.073-0600\u001b[0m] {\u001b[34massessments_endpoints.py:\u001b[0m125} INFO\u001b[0m - https://icefps.illuminateed.com/live/rest_server.php/Api/AssessmentAggregateStudentResponsesStandard/?page=1&assessment_id=115519&limit=1000&date_taken_start=2024-07-01&date_taken_end=2024-11-14\u001b[0m\n",
      "[\u001b[34m2024-11-14T15:55:52.299-0600\u001b[0m] {\u001b[34massessments_endpoints.py:\u001b[0m128} INFO\u001b[0m - The status code for assessment_id 115519 is 200\u001b[0m\n",
      "[\u001b[34m2024-11-14T15:55:52.344-0600\u001b[0m] {\u001b[34massessments_endpoints.py:\u001b[0m135} INFO\u001b[0m - Here is the num of pages for 115519 id - 2 pages\u001b[0m\n",
      "[\u001b[34m2024-11-14T15:55:52.346-0600\u001b[0m] {\u001b[34massessments_endpoints.py:\u001b[0m144} INFO\u001b[0m - Results are present for _id 115519, num_results 1710, page 2\u001b[0m\n",
      "[\u001b[34m2024-11-14T15:55:52.365-0600\u001b[0m] {\u001b[34massessments_endpoints.py:\u001b[0m173} INFO\u001b[0m - Completed fetching for assessment ID 115519.\u001b[0m\n"
     ]
    }
   ],
   "source": [
    "%load_ext autoreload\n",
    "%autoreload 2\n",
    "from modules.assessments_endpoints import *\n",
    "from modules.auth import *\n",
    "from modules.frame_transformations import *\n",
    "from modules.config import base_url_illuminate\n",
    "from airflow import DAG\n",
    "from airflow.operators.python import PythonOperator\n",
    "import logging\n",
    "import os\n",
    "\n",
    "access_token, expires_in = get_access_token()\n",
    "s, log = get_assessment_scores(access_token, 115519, 'Standard')"
   ]
  },
  {
   "cell_type": "code",
   "execution_count": 34,
   "metadata": {},
   "outputs": [
    {
     "data": {
      "text/plain": [
       "array(['CCSS.ELA-Literacy.RI.3.2', 'CCSS.ELA-Literacy.RI.3.4',\n",
       "       'CCSS.ELA-Literacy.RI.3.8', 'CCSS.ELA-Literacy.L.3.5',\n",
       "       'CCSS.ELA-Literacy.RL.3.1', 'CCSS.ELA-Literacy.RI.3.1'],\n",
       "      dtype=object)"
      ]
     },
     "execution_count": 34,
     "metadata": {},
     "output_type": "execute_result"
    }
   ],
   "source": [
    "s['standard_code'].unique()"
   ]
  },
  {
   "cell_type": "code",
   "execution_count": null,
   "metadata": {},
   "outputs": [
    {
     "data": {
      "text/plain": [
       "array(['CCSS.ELA-Literacy.L.3.5', 'CCSS.ELA-Literacy.RI.3.1',\n",
       "       'CCSS.ELA-Literacy.RI.3.2', 'CCSS.ELA-Literacy.RI.3.4',\n",
       "       'CCSS.ELA-Literacy.RI.3.8', 'CCSS.ELA-Literacy.RL.3.1'],\n",
       "      dtype=object)"
      ]
     },
     "execution_count": 50,
     "metadata": {},
     "output_type": "execute_result"
    }
   ],
   "source": [
    "headers = {\n",
    "    \"Authorization\": f\"Bearer {access_token}\"\n",
    "}\n",
    "\n",
    "page=1\n",
    "_id=115519\n",
    "current_date = '2024-11-14'\n",
    "\n",
    "url_ext = f'AssessmentAggregateStudentResponsesStandard/?page={page}&assessment_id={_id}&limit=1000&date_taken_start=2024-07-01&date_taken_end={current_date}'\n",
    "\n",
    "# logging.info(base_url_illuminate + url_ext)\n",
    "response = requests.get(base_url_illuminate + url_ext, headers=headers)\n",
    "\n",
    "r = response.status_code\n",
    "\n",
    "pd.DataFrame(json.loads(response.content)['results'])['standard_code'].unique() #710 rows. Only 1 page\n",
    "\n",
    "# 'CCSS.ELA-Literacy.RL.3.1', 'CCSS.ELA-Literacy.RL.3.2',\n",
    "#        'CCSS.ELA-Literacy.RL.3.3', 'CCSS.ELA-Literacy.RL.3.4',\n",
    "#        'CCSS.ELA-Literacy.RL.3.6'\n",
    "\n",
    "\n",
    "#page 2\n",
    "# 'CCSS.ELA-Literacy.L.3.5', 'CCSS.ELA-Literacy.RI.3.1',\n",
    "#        'CCSS.ELA-Literacy.RI.3.2', 'CCSS.ELA-Literacy.RI.3.4',\n",
    "#        'CCSS.ELA-Literacy.RI.3.8', 'CCSS.ELA-Literacy.RL.3.1'"
   ]
  },
  {
   "cell_type": "code",
   "execution_count": null,
   "metadata": {},
   "outputs": [
    {
     "name": "stdout",
     "output_type": "stream",
     "text": [
      "[\u001b[34m2024-11-14T16:14:13.245-0600\u001b[0m] {\u001b[34massessments_endpoints.py:\u001b[0m125} INFO\u001b[0m - https://icefps.illuminateed.com/live/rest_server.php/Api/AssessmentAggregateStudentResponsesStandard/?page=1&assessment_id=115519&limit=1000&date_taken_start=2024-07-01&date_taken_end=2024-11-14\u001b[0m\n",
      "[\u001b[34m2024-11-14T16:14:13.458-0600\u001b[0m] {\u001b[34massessments_endpoints.py:\u001b[0m128} INFO\u001b[0m - The status code for assessment_id 115519 is 200\u001b[0m\n",
      "[\u001b[34m2024-11-14T16:14:13.466-0600\u001b[0m] {\u001b[34massessments_endpoints.py:\u001b[0m135} INFO\u001b[0m - Here is the num of pages for 115519 id - 2 pages\u001b[0m\n",
      "[\u001b[34m2024-11-14T16:14:13.468-0600\u001b[0m] {\u001b[34massessments_endpoints.py:\u001b[0m144} INFO\u001b[0m - Results are present for _id 115519, num_results 1710, page 1\u001b[0m\n",
      "[\u001b[34m2024-11-14T16:14:13.483-0600\u001b[0m] {\u001b[34massessments_endpoints.py:\u001b[0m179} INFO\u001b[0m - Here is the url_ext for the next page AssessmentAggregateStudentResponsesStandard/?page=1&assessment_id=115519&limit=1000&date_taken_start=2024-07-01&date_taken_end=2024-11-14\u001b[0m\n",
      "[\u001b[34m2024-11-14T16:14:13.485-0600\u001b[0m] {\u001b[34massessments_endpoints.py:\u001b[0m125} INFO\u001b[0m - https://icefps.illuminateed.com/live/rest_server.php/Api/AssessmentAggregateStudentResponsesStandard/?page=1&assessment_id=115519&limit=1000&date_taken_start=2024-07-01&date_taken_end=2024-11-14\u001b[0m\n",
      "[\u001b[34m2024-11-14T16:14:13.707-0600\u001b[0m] {\u001b[34massessments_endpoints.py:\u001b[0m128} INFO\u001b[0m - The status code for assessment_id 115519 is 200\u001b[0m\n",
      "[\u001b[34m2024-11-14T16:14:13.715-0600\u001b[0m] {\u001b[34massessments_endpoints.py:\u001b[0m135} INFO\u001b[0m - Here is the num of pages for 115519 id - 2 pages\u001b[0m\n",
      "[\u001b[34m2024-11-14T16:14:13.717-0600\u001b[0m] {\u001b[34massessments_endpoints.py:\u001b[0m144} INFO\u001b[0m - Results are present for _id 115519, num_results 1710, page 2\u001b[0m\n",
      "[\u001b[34m2024-11-14T16:14:13.730-0600\u001b[0m] {\u001b[34massessments_endpoints.py:\u001b[0m173} INFO\u001b[0m - Completed fetching for assessment ID 115519.\u001b[0m\n"
     ]
    }
   ],
   "source": [
    "o, log = get_assessment_scores(access_token, 115519, 'Standard') #why does this display 2000 results. When the log is saying 1710"
   ]
  },
  {
   "cell_type": "code",
   "execution_count": null,
   "metadata": {},
   "outputs": [
    {
     "data": {
      "text/plain": [
       "{'page': 1, 'num_pages': 0, 'num_results': 0, 'results': []}"
      ]
     },
     "execution_count": 29,
     "metadata": {},
     "output_type": "execute_result"
    }
   ],
   "source": [
    "'CCSS.ELA-Literacy.RL.3.1', \n",
    "'CCSS.ELA-Literacy.RL.3.2',\n",
    "'CCSS.ELA-Literacy.RL.3.3', \n",
    "'CCSS.ELA-Literacy.RL.3.4',\n",
    "'CCSS.ELA-Literacy.L.3.5',\n",
    "'CCSS.ELA-Literacy.RL.3.6',\n",
    "'CCSS.ELA-Literacy.L.3.5', \n",
    "'CCSS.ELA-Literacy.RI.3.1',\n",
    "'CCSS.ELA-Literacy.RI.3.2', \n",
    "'CCSS.ELA-Literacy.RI.3.4',\n",
    "'CCSS.ELA-Literacy.RI.3.8', \n",
    "'CCSS.ELA-Literacy.RL.3.1'"
   ]
  },
  {
   "cell_type": "code",
   "execution_count": 2,
   "metadata": {},
   "outputs": [
    {
     "name": "stderr",
     "output_type": "stream",
     "text": [
      "/tmp/ipykernel_1216677/2925511554.py:2: DtypeWarning: Columns (20) have mixed types. Specify dtype option on import or set low_memory=False.\n",
      "  c =pd.read_csv('/home/g2015samtaylor/illuminate/assessment_results_combined.csv')\n"
     ]
    }
   ],
   "source": [
    "import pandas as pd\n",
    "c =pd.read_csv('/home/g2015samtaylor/illuminate/assessment_results_combined.csv')\n",
    "v =pd.read_csv('/home/g2015samtaylor/illuminate/assessment_results_view.csv')\n",
    "sr =pd.read_table('/home/icef/powerschool/Student Rosters.txt')"
   ]
  },
  {
   "cell_type": "code",
   "execution_count": 62,
   "metadata": {},
   "outputs": [],
   "source": [
    "v.loc[v['grade'].isna()]['local_student_id'].to_csv('misssing_ids.csv', index=False)"
   ]
  },
  {
   "cell_type": "code",
   "execution_count": 61,
   "metadata": {},
   "outputs": [
    {
     "data": {
      "text/html": [
       "<div>\n",
       "<style scoped>\n",
       "    .dataframe tbody tr th:only-of-type {\n",
       "        vertical-align: middle;\n",
       "    }\n",
       "\n",
       "    .dataframe tbody tr th {\n",
       "        vertical-align: top;\n",
       "    }\n",
       "\n",
       "    .dataframe thead th {\n",
       "        text-align: right;\n",
       "    }\n",
       "</style>\n",
       "<table border=\"1\" class=\"dataframe\">\n",
       "  <thead>\n",
       "    <tr style=\"text-align: right;\">\n",
       "      <th></th>\n",
       "      <th>STUDENTS.ID</th>\n",
       "      <th>STUDENTS.dcid</th>\n",
       "      <th>STUDENTS.SchoolID</th>\n",
       "      <th>STUDENTS.State_StudentNumber</th>\n",
       "      <th>STUDENTS.Student_Number</th>\n",
       "      <th>STUDENTS.Grade_Level</th>\n",
       "      <th>STUDENTS.Enroll_Status</th>\n",
       "      <th>S_CA_STU_X.primarydisability</th>\n",
       "      <th>S_CA_STU_X.elastatus</th>\n",
       "    </tr>\n",
       "  </thead>\n",
       "  <tbody>\n",
       "  </tbody>\n",
       "</table>\n",
       "</div>"
      ],
      "text/plain": [
       "Empty DataFrame\n",
       "Columns: [STUDENTS.ID, STUDENTS.dcid, STUDENTS.SchoolID, STUDENTS.State_StudentNumber, STUDENTS.Student_Number, STUDENTS.Grade_Level, STUDENTS.Enroll_Status, S_CA_STU_X.primarydisability, S_CA_STU_X.elastatus]\n",
       "Index: []"
      ]
     },
     "execution_count": 61,
     "metadata": {},
     "output_type": "execute_result"
    }
   ],
   "source": [
    "sr.loc[sr['STUDENTS.Student_Number'] == 602409]"
   ]
  },
  {
   "cell_type": "code",
   "execution_count": 64,
   "metadata": {},
   "outputs": [
    {
     "data": {
      "text/html": [
       "<div>\n",
       "<style scoped>\n",
       "    .dataframe tbody tr th:only-of-type {\n",
       "        vertical-align: middle;\n",
       "    }\n",
       "\n",
       "    .dataframe tbody tr th {\n",
       "        vertical-align: top;\n",
       "    }\n",
       "\n",
       "    .dataframe thead th {\n",
       "        text-align: right;\n",
       "    }\n",
       "</style>\n",
       "<table border=\"1\" class=\"dataframe\">\n",
       "  <thead>\n",
       "    <tr style=\"text-align: right;\">\n",
       "      <th></th>\n",
       "      <th>STUDENTS.Student_Number</th>\n",
       "    </tr>\n",
       "  </thead>\n",
       "  <tbody>\n",
       "    <tr>\n",
       "      <th>0</th>\n",
       "      <td>602333</td>\n",
       "    </tr>\n",
       "    <tr>\n",
       "      <th>1</th>\n",
       "      <td>602409</td>\n",
       "    </tr>\n",
       "    <tr>\n",
       "      <th>2</th>\n",
       "      <td>602580</td>\n",
       "    </tr>\n",
       "    <tr>\n",
       "      <th>3</th>\n",
       "      <td>602409</td>\n",
       "    </tr>\n",
       "    <tr>\n",
       "      <th>4</th>\n",
       "      <td>602333</td>\n",
       "    </tr>\n",
       "    <tr>\n",
       "      <th>...</th>\n",
       "      <td>...</td>\n",
       "    </tr>\n",
       "    <tr>\n",
       "      <th>2841</th>\n",
       "      <td>602605</td>\n",
       "    </tr>\n",
       "    <tr>\n",
       "      <th>2842</th>\n",
       "      <td>602605</td>\n",
       "    </tr>\n",
       "    <tr>\n",
       "      <th>2843</th>\n",
       "      <td>602460</td>\n",
       "    </tr>\n",
       "    <tr>\n",
       "      <th>2844</th>\n",
       "      <td>602435</td>\n",
       "    </tr>\n",
       "    <tr>\n",
       "      <th>2845</th>\n",
       "      <td>602400</td>\n",
       "    </tr>\n",
       "  </tbody>\n",
       "</table>\n",
       "<p>2846 rows × 1 columns</p>\n",
       "</div>"
      ],
      "text/plain": [
       "      STUDENTS.Student_Number\n",
       "0                      602333\n",
       "1                      602409\n",
       "2                      602580\n",
       "3                      602409\n",
       "4                      602333\n",
       "...                       ...\n",
       "2841                   602605\n",
       "2842                   602605\n",
       "2843                   602460\n",
       "2844                   602435\n",
       "2845                   602400\n",
       "\n",
       "[2846 rows x 1 columns]"
      ]
     },
     "execution_count": 64,
     "metadata": {},
     "output_type": "execute_result"
    }
   ],
   "source": [
    "pd.read_csv('/home/g2015samtaylor/airflow/git_directory/Illuminate/misssing_ids.csv')"
   ]
  },
  {
   "cell_type": "code",
   "execution_count": 68,
   "metadata": {},
   "outputs": [
    {
     "data": {
      "text/html": [
       "<div>\n",
       "<style scoped>\n",
       "    .dataframe tbody tr th:only-of-type {\n",
       "        vertical-align: middle;\n",
       "    }\n",
       "\n",
       "    .dataframe tbody tr th {\n",
       "        vertical-align: top;\n",
       "    }\n",
       "\n",
       "    .dataframe thead th {\n",
       "        text-align: right;\n",
       "    }\n",
       "</style>\n",
       "<table border=\"1\" class=\"dataframe\">\n",
       "  <thead>\n",
       "    <tr style=\"text-align: right;\">\n",
       "      <th></th>\n",
       "      <th>STUDENTS.ID</th>\n",
       "      <th>STUDENTS.dcid</th>\n",
       "      <th>STUDENTS.SchoolID</th>\n",
       "      <th>STUDENTS.State_StudentNumber</th>\n",
       "      <th>STUDENTS.Student_Number</th>\n",
       "      <th>STUDENTS.Grade_Level</th>\n",
       "      <th>STUDENTS.Enroll_Status</th>\n",
       "      <th>S_CA_STU_X.primarydisability</th>\n",
       "      <th>S_CA_STU_X.elastatus</th>\n",
       "    </tr>\n",
       "  </thead>\n",
       "  <tbody>\n",
       "  </tbody>\n",
       "</table>\n",
       "</div>"
      ],
      "text/plain": [
       "Empty DataFrame\n",
       "Columns: [STUDENTS.ID, STUDENTS.dcid, STUDENTS.SchoolID, STUDENTS.State_StudentNumber, STUDENTS.Student_Number, STUDENTS.Grade_Level, STUDENTS.Enroll_Status, S_CA_STU_X.primarydisability, S_CA_STU_X.elastatus]\n",
       "Index: []"
      ]
     },
     "execution_count": 68,
     "metadata": {},
     "output_type": "execute_result"
    }
   ],
   "source": [
    "sr.loc[sr['STUDENTS.Student_Number'] == 602409]"
   ]
  },
  {
   "cell_type": "code",
   "execution_count": 189,
   "metadata": {},
   "outputs": [
    {
     "name": "stdout",
     "output_type": "stream",
     "text": [
      "The autoreload extension is already loaded. To reload it, use:\n",
      "  %reload_ext autoreload\n"
     ]
    }
   ],
   "source": [
    "%load_ext autoreload\n",
    "%autoreload 2\n",
    "#Assessments with confirmed active results\n",
    "#107617, 107614\n",
    "\n",
    "# 17 mins for current operation with all ids\n",
    "# 2 mins for 100 ids. \n",
    "\n",
    "#To DO\n",
    "#Implement logging to the whole operations\n",
    "\n",
    "from modules.auth import *\n",
    "from modules.assessments_endpoints import *\n",
    "from modules.frame_transformations import *\n",
    "from modules.config import base_url_illuminate\n",
    "from airflow import DAG\n",
    "from airflow.operators.python import PythonOperator\n",
    "import logging\n",
    "import os\n",
    "\n",
    "access_token, expires_in = get_access_token()\n",
    "test_results_view = create_test_results_view(test_results_combined, '23-24') #add in grade level col, string matching"
   ]
  },
  {
   "cell_type": "code",
   "execution_count": null,
   "metadata": {},
   "outputs": [],
   "source": [
    "# just noticed that assessment id 114845 (4th grade IM unit 2 assessment) is missing from the data\n",
    "#This should be solved once ran again in airflow. \n",
    "#Double check this\n",
    "\n",
    "# Some assessments missing grade level (ex. Assessment 115900)\n",
    "# Another idea is to do a join with the Powerschool demographic data using student ID and pulling grade from there\n",
    "\n",
    "#Done\n",
    "# Algebra II interim exam (141449) says “Algebra” as curriculum\n",
    "# This seems to be a common thing for Algebra I and Algebra II. Should say Algebra I or Algebra II\n",
    "# Pre Calculus missing curriculum data (141457) or incorrect (141501)\n",
    "# For these ones on curriculum we want this to come across as Pre-Calc or Pre-Calculus\n",
    "# Stats (141460) needs to be “Statistics” not “IM”\n",
    "# Biology (141506) curriculum data incorrect\n",
    "# Biology for the curriculum here\n",
    "# 115520, 115519, 115538 says IM when it should be Into Reading\n",
    "# Some assessments missing “Unit” (IA/Interim in title should say “Interim)\n"
   ]
  },
  {
   "cell_type": "markdown",
   "metadata": {},
   "source": [
    "# TO DO"
   ]
  },
  {
   "cell_type": "markdown",
   "metadata": {},
   "source": [
    "Changes for the test_results_combined frame\n",
    "Now represents all assessments standard & no standard. \n",
    "\n",
    "Both frames brought together, and added in standard_code column. \n",
    "All values in 'standard_code' column with a percent value are no_standard values in the 'Standard_No_Standard' column as well. So if you were looking to fitler on this. Looks like you can do it either way\n",
    "\n",
    "Changes for the test_results_view\n",
    "asssesment_id column is now present\n",
    "values in kinder column that were 'K' are now 0\n",
    "\n",
    "General notes\n",
    "The date taken filter on all of these assessment pulls is from 2024-07-01 up to the current run day\n"
   ]
  }
 ],
 "metadata": {
  "kernelspec": {
   "display_name": "Python 3",
   "language": "python",
   "name": "python3"
  },
  "language_info": {
   "codemirror_mode": {
    "name": "ipython",
    "version": 3
   },
   "file_extension": ".py",
   "mimetype": "text/x-python",
   "name": "python",
   "nbconvert_exporter": "python",
   "pygments_lexer": "ipython3",
   "version": "3.9.5"
  }
 },
 "nbformat": 4,
 "nbformat_minor": 2
}
